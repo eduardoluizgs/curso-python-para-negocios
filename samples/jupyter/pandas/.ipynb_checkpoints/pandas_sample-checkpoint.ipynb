{
 "cells": [
  {
   "cell_type": "code",
   "execution_count": 3,
   "id": "1638b5ea",
   "metadata": {},
   "outputs": [],
   "source": [
    "import pandas as pd"
   ]
  },
  {
   "cell_type": "code",
   "execution_count": 4,
   "id": "c75f72db",
   "metadata": {},
   "outputs": [],
   "source": [
    "idades_dos_alunos = pd.Series([36, 29, 60, 61])"
   ]
  },
  {
   "cell_type": "code",
   "execution_count": 11,
   "id": "73d4ed60",
   "metadata": {},
   "outputs": [
    {
     "data": {
      "text/plain": [
       "array([36, 29, 60, 61])"
      ]
     },
     "execution_count": 11,
     "metadata": {},
     "output_type": "execute_result"
    }
   ],
   "source": [
    "idades_dos_alunos.values"
   ]
  },
  {
   "cell_type": "code",
   "execution_count": 13,
   "id": "d0c6d206",
   "metadata": {},
   "outputs": [
    {
     "data": {
      "text/plain": [
       "0    36\n",
       "1    29\n",
       "2    60\n",
       "3    61\n",
       "dtype: int64"
      ]
     },
     "execution_count": 13,
     "metadata": {},
     "output_type": "execute_result"
    }
   ],
   "source": [
    "idades_dos_alunos"
   ]
  }
 ],
 "metadata": {
  "kernelspec": {
   "display_name": "Python 3 (ipykernel)",
   "language": "python",
   "name": "python3"
  },
  "language_info": {
   "codemirror_mode": {
    "name": "ipython",
    "version": 3
   },
   "file_extension": ".py",
   "mimetype": "text/x-python",
   "name": "python",
   "nbconvert_exporter": "python",
   "pygments_lexer": "ipython3",
   "version": "3.8.2"
  }
 },
 "nbformat": 4,
 "nbformat_minor": 5
}
